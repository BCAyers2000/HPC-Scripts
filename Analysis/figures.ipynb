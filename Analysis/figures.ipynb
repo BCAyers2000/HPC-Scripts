{
 "cells": [
  {
   "cell_type": "code",
   "execution_count": null,
   "metadata": {},
   "outputs": [],
   "source": [
    "import numpy as np\n",
    "import matplotlib.pyplot as plt\n",
    "from gridData import Grid\n",
    "from matplotlib import rc\n",
    "rc('font', **{'family': 'serif', 'serif': ['Computer Modern'], 'size': 12})\n",
    "rc('text', usetex=True)\n",
    "\n",
    "Li_conc_data  = Grid(\"Li_out_bion_conc_species_1.dx\")\n",
    "pf6_conc_data = Grid(\"Li_out_bion_conc_species_2.dx\")\n",
    "av_li_conc  = np.mean(Li_conc_data.grid, axis=(0, 1))\n",
    "av_pf6_conc = np.mean(pf6_conc_data.grid, axis=(0, 1))\n",
    "z_axis = np.arange(Li_conc_data.grid.shape[2]) * Li_conc_data.delta[2]  \n",
    "\n",
    "plt.ylabel('xy-averaged electrolyte concentration / M' , fontsize=15) \n",
    "plt.plot(z_axis, av_li_conc, label=r'Li$^{+}$') \n",
    "plt.plot(z_axis, av_pf6_conc, label=r'PF$_6^{-}$') \n",
    "plt.grid() \n",
    "plt.legend()  \n",
    "plt.tight_layout()\n",
    "plt.savefig(\"average_concentration_plot.png\", dpi=2000)\n",
    "plt.show()"
   ]
  },
  {
   "cell_type": "code",
   "execution_count": null,
   "metadata": {},
   "outputs": [],
   "source": [
    "# Import libraries\n",
    "from gridData import Grid\n",
    "import numpy as np\n",
    "import matplotlib.pyplot as plt\n",
    "from matplotlib.ticker import MaxNLocator\n",
    "from matplotlib import rc\n",
    "rc('font', **{'family': 'serif', 'serif': ['Computer Modern'], 'size': 15})\n",
    "rc('text', usetex=True)\n",
    "\n",
    "total_density = Grid(\"total.dx\")\n",
    "gx = total_density.grid.shape[0]\n",
    "gy = total_density.grid.shape[1]\n",
    "gz = total_density.grid.shape[2]\n",
    "dx = total_density.delta[0]\n",
    "dz = total_density.delta[2]\n",
    "x = np.arange(gx)\n",
    "z = np.arange(gz)\n",
    "ax, az = np.meshgrid(x, z)\n",
    "lx = dx * ax\n",
    "lz = dz * az\n",
    "\n",
    "plt.figure(figsize=(15, 9)) \n",
    "cmap = plt.cm.seismic\n",
    "norm = plt.Normalize(vmin=-0.001, vmax=0.001)\n",
    "total_density_slice = -np.sum(total_density.grid, axis=1) / (gx * gy)\n",
    "plt.pcolormesh(lx, lz, total_density_slice.T, shading='gouraud', cmap=cmap, norm=norm)\n",
    "\n",
    "colorbar = plt.colorbar(shrink=0.75)\n",
    "colorbar.ax.tick_params(labelsize=14, rotation=90) \n",
    "colorbar.locator = MaxNLocator(nbins=4)\n",
    "\n",
    "plt.xlabel(r'$x$ ($\\rm \\AA$)', rotation=90, fontsize=22)\n",
    "plt.ylabel(r'$z$ ($\\rm \\AA$)', rotation=90, fontsize=22)\n",
    "plt.gca().yaxis.set_label_position(\"right\")\n",
    "plt.gca().yaxis.set_major_locator(plt.NullLocator())\n",
    "plt.tight_layout()\n",
    "plt.gca().set_aspect('equal', adjustable='box')\n",
    "plt.savefig(\"final-slice.png\", dpi=1500)\n",
    "plt.show()"
   ]
  }
 ],
 "metadata": {
  "language_info": {
   "name": "python"
  }
 },
 "nbformat": 4,
 "nbformat_minor": 2
}
