{
 "cells": [
  {
   "cell_type": "code",
   "execution_count": null,
   "metadata": {},
   "outputs": [],
   "source": [
    "from pymatgen.io.vasp import Vasprun\n",
    "from pymatgen.electronic_structure.plotter import DosPlotter\n",
    "\n",
    "v = Vasprun(\"/scratch/ba3g18/VASP/Testing/Ads/Li-F_ontop_solvent/ontop_1.50/vasprun.xml\")  # Parse vasprun.xml\n",
    "tdos = v.tdos  # Get total DOS\n",
    "\n",
    "plotter = DosPlotter()\n",
    "plotter.add_dos(\"Total DOS\", tdos)\n",
    "plotter.show(xlim=(-10, 10) ) "
   ]
  },
  {
   "cell_type": "code",
   "execution_count": 1,
   "metadata": {},
   "outputs": [
    {
     "name": "stdout",
     "output_type": "stream",
     "text": [
      "0.01222959\n"
     ]
    }
   ],
   "source": [
    "from ase.io import read\n",
    "import numpy as np\n",
    "\n",
    "atoms = read(\"/scratch/ba3g18/VASP/Lithium/Production/Solvated/test/slab_calc/vasprun.xml\")\n",
    "print(np.max(atoms.get_forces()))\n"
   ]
  },
  {
   "cell_type": "code",
   "execution_count": 1,
   "metadata": {},
   "outputs": [
    {
     "name": "stdout",
     "output_type": "stream",
     "text": [
      "Capacitance in standard units: 13.8375 μF/cm²\n"
     ]
    }
   ],
   "source": [
    "from ase.io import read\n",
    "import numpy as np\n",
    "\n",
    "\n",
    "def convert_capacitance(c_vasp, surface_area_ang2):\n",
    "    \"\"\"\n",
    "    Convert capacitance from VASP units (e/V) to standard electrochemical units (μF/cm²)\n",
    "    \n",
    "    Args:\n",
    "        c_vasp: Capacitance in e/V (electrons per volt) from VASP\n",
    "        surface_area_ang2: Surface area in square Angstroms\n",
    "    \n",
    "    Returns:\n",
    "        c_standard: Capacitance in μF/cm² (microfarads per square centimeter)\n",
    "    \"\"\"\n",
    "    # Constants\n",
    "    elementary_charge = 1.602176634e-19  # C\n",
    "    ang2_to_cm2 = 1e-16  # 1 Å² = 1e-16 cm²\n",
    "    C_to_microF = 1e6  # 1 Coulomb/Volt = 1 Farad = 1e6 μF\n",
    "    \n",
    "    # Surface area in cm²\n",
    "    surface_area_cm2 = surface_area_ang2 * ang2_to_cm2\n",
    "    \n",
    "    # Convert e/V to C/V first\n",
    "    c_farad = c_vasp * elementary_charge\n",
    "    \n",
    "    # Convert to μF/cm²\n",
    "    c_standard = (c_farad * C_to_microF) / surface_area_cm2\n",
    "    \n",
    "    return c_standard\n",
    "\n",
    "\n",
    "def convert_capacitance_reverse(c_standard, surface_area_ang2):\n",
    "    \"\"\"\n",
    "    Convert capacitance from standard electrochemical units (μF/cm²) to VASP units (e/V)\n",
    "    \n",
    "    Args:\n",
    "        c_standard: Capacitance in μF/cm² (microfarads per square centimeter)\n",
    "        surface_area_ang2: Surface area in square Angstroms\n",
    "    \n",
    "    Returns:\n",
    "        c_vasp: Capacitance in e/V (electrons per volt) for VASP\n",
    "    \"\"\"\n",
    "    # Constants\n",
    "    elementary_charge = 1.602176634e-19  # C\n",
    "    ang2_to_cm2 = 1e-16  # 1 Å² = 1e-16 cm²\n",
    "    microF_to_C = 1e-6  # 1 μF = 1e-6 F = 1e-6 C/V\n",
    "    \n",
    "    # Surface area in cm²\n",
    "    surface_area_cm2 = surface_area_ang2 * ang2_to_cm2\n",
    "    \n",
    "    # Convert μF/cm² to C/V (Farads)\n",
    "    c_farad = c_standard * surface_area_cm2 * microF_to_C\n",
    "    \n",
    "    # Convert C/V to e/V\n",
    "    c_vasp = c_farad / elementary_charge\n",
    "    \n",
    "    return c_vasp\n",
    "\n",
    "atoms = read(\"/scratch/ba3g18/VASP/Testing/Solvation/ase_surface/PZC/slab_calc/vasprun.xml\")\n",
    "area =  np.linalg.norm(np.cross(atoms.cell[0], atoms.cell[1])) \n",
    "c_vasp =   0.10220302\n",
    " \n",
    "\n",
    "c_standard = convert_capacitance(c_vasp, area)\n",
    "print(f\"Capacitance in standard units: {c_standard:.4f} μF/cm²\")\n",
    "\n"
   ]
  },
  {
   "cell_type": "code",
   "execution_count": null,
   "metadata": {},
   "outputs": [],
   "source": [
    "from ase.io import read\n",
    "\n",
    "# ase energy \n",
    "atoms = read(\"/scratch/ba3g18/VASP/Testing/Ads/Li-F_ontop_solvent/ontop_1.80/vasprun.xml\")\n",
    "print(atoms.get_potential_energy())\n",
    "\n",
    "# pymatgen energy\n",
    "from pymatgen.io.vasp.outputs import Vasprun\n",
    "\n",
    "v = Vasprun(\"/scratch/ba3g18/VASP/Testing/Ads/Li-F_ontop_solvent/ontop_1.80/vasprun.xml\")\n",
    "# Get the energy of the system\n",
    "energy = v.final_energy\n",
    "print(\"Energy:\", energy)"
   ]
  },
  {
   "cell_type": "code",
   "execution_count": null,
   "metadata": {},
   "outputs": [],
   "source": [
    "\n",
    "from pymatgen.io.vasp.outputs import Vasprun\n",
    "\n",
    "v = Vasprun(\"/scratch/ba3g18/VASP/Testing/Ads/Li-F_ontop_solvent/ontop_1.80/vasprun.xml\")\n",
    "v.get_computed_entry()"
   ]
  },
  {
   "cell_type": "code",
   "execution_count": 11,
   "metadata": {},
   "outputs": [
    {
     "ename": "ParseError",
     "evalue": "no element found: line 1511, column 0 (<string>)",
     "output_type": "error",
     "traceback": [
      "Traceback \u001b[0;36m(most recent call last)\u001b[0m:\n",
      "\u001b[0m  File \u001b[1;32m/scratch/ba3g18/Installations/mambaforge/envs/Workflow/lib/python3.12/site-packages/IPython/core/interactiveshell.py:3579\u001b[0m in \u001b[1;35mrun_code\u001b[0m\n    exec(code_obj, self.user_global_ns, self.user_ns)\u001b[0m\n",
      "\u001b[0m  Cell \u001b[1;32mIn[11], line 3\u001b[0m\n    v = Vasprun(\"/scratch/ba3g18/VASP/Testing/Reference/osani/Li_slab_efermi_-1.00/vasprun.xml\")\u001b[0m\n",
      "\u001b[0m  File \u001b[1;32m/scratch/ba3g18/Installations/mambaforge/envs/Workflow/lib/python3.12/site-packages/pymatgen/io/vasp/outputs.py:339\u001b[0m in \u001b[1;35m__init__\u001b[0m\n    self._parse(\u001b[0m\n",
      "\u001b[0m  File \u001b[1;32m/scratch/ba3g18/Installations/mambaforge/envs/Workflow/lib/python3.12/site-packages/pymatgen/io/vasp/outputs.py:391\u001b[0m in \u001b[1;35m_parse\u001b[0m\n    for event, elem in ET.iterparse(stream, events=[\"start\", \"end\"]):\u001b[0m\n",
      "\u001b[0m  File \u001b[1;32m/scratch/ba3g18/Installations/mambaforge/envs/Workflow/lib/python3.12/xml/etree/ElementTree.py:1242\u001b[0m in \u001b[1;35miterator\u001b[0m\n    root = pullparser._close_and_return_root()\u001b[0m\n",
      "\u001b[0;36m  File \u001b[0;32m/scratch/ba3g18/Installations/mambaforge/envs/Workflow/lib/python3.12/xml/etree/ElementTree.py:1290\u001b[0;36m in \u001b[0;35m_close_and_return_root\u001b[0;36m\n\u001b[0;31m    root = self._parser.close()\u001b[0;36m\n",
      "\u001b[0;36m  File \u001b[0;32m<string>\u001b[0;36m\u001b[0m\n\u001b[0;31mParseError\u001b[0m\u001b[0;31m:\u001b[0m no element found: line 1511, column 0\n"
     ]
    }
   ],
   "source": [
    "\n",
    "from pymatgen.io.vasp.outputs import Vasprun\n",
    "\n",
    "v = Vasprun(\"/scratch/ba3g18/VASP/Testing/Reference/osani/Li_slab_efermi_-1.00/vasprun.xml\")\n",
    "v.calculate_efermi()"
   ]
  },
  {
   "cell_type": "code",
   "execution_count": null,
   "metadata": {},
   "outputs": [],
   "source": [
    "from pymatgen.core.structure import Structure\n",
    "import nglview\n",
    "\n",
    "structure = Structure.from_file(\"/scratch/ba3g18/VASP/Testing/Ads/Li-F_ontop_solvent/ontop_1.60/POSCAR\")\n",
    "view = nglview.show_pymatgen(structure)\n",
    "view"
   ]
  },
  {
   "cell_type": "code",
   "execution_count": null,
   "metadata": {},
   "outputs": [],
   "source": [
    "import os\n",
    "import matplotlib.pyplot as plt\n",
    "from pymatgen.io.vasp import Outcar\n",
    "\n",
    "# 1. Specify the path to your VASP directory\n",
    "directory = \"/scratch/ba3g18/VASP/Testing/Ads/Li-F_ontop_solvent/ontop_1.60\"\n",
    "\n",
    "# 2. Read OUTCAR\n",
    "try:\n",
    "    outcar = Outcar(os.path.join(directory, \"OUTCAR\"))\n",
    "except FileNotFoundError:\n",
    "    print(\"OUTCAR not found. Plotting skipped.\")\n",
    "    exit()\n",
    "\n",
    "# 3. Extract Data\n",
    "iterations = range(1, len(outcar.ionic_steps) + 1)\n",
    "energies = [step[\"e_0_energy\"] for step in outcar.ionic_steps]\n",
    "max_forces = [max(np.linalg.norm(step[\"forces\"], axis=1)) for step in outcar.ionic_steps] # get the maximum force per iteration.\n",
    "import numpy as np\n",
    "\n",
    "# 4. Plot Energy vs. Iteration\n",
    "plt.figure()\n",
    "plt.plot(iterations, energies, marker='o')\n",
    "plt.xlabel(\"Iteration\")\n",
    "plt.ylabel(\"Energy (eV)\")\n",
    "plt.title(\"Energy vs. Iteration\")\n",
    "plt.grid(True)\n",
    "plt.show()\n",
    "\n",
    "# 5. Plot Max Force vs. Iteration\n",
    "plt.figure()\n",
    "plt.plot(iterations, max_forces, marker='o')\n",
    "plt.xlabel(\"Iteration\")\n",
    "plt.ylabel(\"Max Force (eV/Å)\")\n",
    "plt.title(\"Max Force vs. Iteration\")\n",
    "plt.grid(True)\n",
    "plt.show()"
   ]
  },
  {
   "cell_type": "code",
   "execution_count": null,
   "metadata": {},
   "outputs": [],
   "source": [
    "from pymatgen.io.vasp import Vasprun\n",
    "from pymatgen.electronic_structure.plotter import DosPlotter\n",
    "\n",
    "try:\n",
    "    v = Vasprun(\"/scratch/ba3g18/VASP/Testing/Ads/Li-F_ontop_solvent/ontop_1.50/vasprun.xml\")\n",
    "    dos = v.complete_dos  # Get the complete DOS object\n",
    "    plotter = DosPlotter()\n",
    "    # plotter.add_dos_dict(dos.get_element_spd_dos())  # Plot element-resolved PDOS\n",
    "    plotter.add_dos_dict(dos.get_site_spd_dos()) # Plot site-resolved PDOS\n",
    "    plotter.show()\n",
    "except FileNotFoundError:\n",
    "    print(\"vasprun.xml not found. PDOS plotting skipped.\")"
   ]
  },
  {
   "cell_type": "code",
   "execution_count": null,
   "metadata": {},
   "outputs": [],
   "source": [
    "from pymatgen.io.vasp import Locpot\n",
    "import matplotlib.pyplot as plt\n",
    "import numpy as np\n",
    "\n",
    "# 1. Parse the LOCPOT file\n",
    "locpot = Locpot.from_file(\"/scratch/ba3g18/VASP/Testing/Ads/Li-F_ontop_solvent/ontop_1.50/LOCPOT\")\n",
    "\n",
    "# 2. Extract the potential data\n",
    "potential_data = locpot.data[\"total\"]\n",
    "\n",
    "# 3. Calculate the XY-averaged potential\n",
    "xy_averaged_potential = np.mean(potential_data, axis=(0, 1))\n",
    "\n",
    "# 4. Get the Z-coordinates\n",
    "z_coords = np.linspace(0, locpot.structure.lattice.c, len(xy_averaged_potential))\n",
    "\n",
    "# 5. Plot the XY-averaged potential along Z\n",
    "plt.plot(z_coords, xy_averaged_potential)\n",
    "plt.xlabel(\"Z (Angstrom)\")\n",
    "plt.ylabel(\"XY-averaged Potential (V)\")\n",
    "plt.title(\"XY-averaged Electrostatic Potential along Z\")\n",
    "plt.show()"
   ]
  },
  {
   "cell_type": "code",
   "execution_count": null,
   "metadata": {},
   "outputs": [],
   "source": [
    "from pymatgen.io.vasp import Vasprun\n",
    "from pymatgen.electronic_structure.plotter import BSPlotter\n",
    "\n",
    "v = Vasprun(\"/scratch/ba3g18/VASP/Testing/Ads/Li-F_ontop_solvent/ontop_1.50/vasprun.xml\")\n",
    "bs = v.get_band_structure()\n",
    "plotter = BSPlotter(bs)\n",
    "plotter.show()"
   ]
  },
  {
   "cell_type": "code",
   "execution_count": null,
   "metadata": {},
   "outputs": [],
   "source": [
    "from pymatgen.io.vasp import Chgcar\n",
    "import matplotlib.pyplot as plt\n",
    "\n",
    "chgcar = Chgcar.from_file(\"CHGCAR\")\n",
    "# Example, plot a slice of the charge density.\n",
    "plt.imshow(chgcar.data['total'][:,:,chgcar.data['total'].shape[2]//2])\n",
    "plt.show()"
   ]
  },
  {
   "cell_type": "code",
   "execution_count": null,
   "metadata": {},
   "outputs": [],
   "source": [
    "from pymatgen.io.vasp import Locpot\n",
    "import matplotlib.pyplot as plt\n",
    "import numpy as np\n",
    "\n",
    "# Load LOCPOT and PHISOLV\n",
    "locpot = Locpot.from_file(\"/scratch/ba3g18/VASP/Testing/Ads/Li-F_ontop_solvent/ontop_1.55/LOCPOT\")\n",
    "phisolv = Locpot.from_file(\"/scratch/ba3g18/VASP/Testing/Ads/Li-F_ontop_solvent/ontop_1.55/PHISOLV\") # PHISOLV is also a LOCPOT-like file\n",
    "\n",
    "# Extract potential data\n",
    "total_potential = locpot.data[\"total\"]\n",
    "solvent_potential = phisolv.data[\"total\"]\n",
    "\n",
    "# XY-averaged potentials\n",
    "total_potential_avg = np.mean(total_potential, axis=(0, 1))\n",
    "solvent_potential_avg = np.mean(solvent_potential, axis=(0, 1))\n",
    "\n",
    "# Z-coordinates\n",
    "z_coords = np.linspace(0, locpot.structure.lattice.c, len(total_potential_avg))\n",
    "\n",
    "# Plotting\n",
    "plt.plot(z_coords, total_potential_avg, label=\"Total Potential\")\n",
    "plt.plot(z_coords, solvent_potential_avg, label=\"Solvent Potential\")\n",
    "plt.xlabel(\"Z (Angstrom)\")\n",
    "plt.ylabel(\"XY-averaged Potential (V)\")\n",
    "plt.title(\"Electrostatic Potential Profiles\")\n",
    "plt.legend()\n",
    "plt.show()\n",
    "\n",
    "# Calculate the difference to see the solvent effect\n",
    "potential_difference = total_potential_avg - solvent_potential_avg\n",
    "plt.plot(z_coords, potential_difference, label=\"Potential Difference\", color='green')\n",
    "plt.xlabel(\"Z (Angstrom)\")\n",
    "plt.ylabel(\"Potential Difference (V)\")\n",
    "plt.title(\"Solvent Effect on Potential\")\n",
    "plt.legend()\n",
    "plt.show()"
   ]
  },
  {
   "cell_type": "code",
   "execution_count": null,
   "metadata": {},
   "outputs": [],
   "source": [
    "import os\n",
    "from pymatgen.io.vasp import Locpot, Outcar\n",
    "import matplotlib.pyplot as plt\n",
    "import numpy as np\n",
    "\n",
    "# --- 1. Specify the Path ---\n",
    "directory = \"/scratch/ba3g18/VASP/Testing/Ads/Li-F_ontop_solvent/ontop_1.55\"\n",
    "\n",
    "# --- 2. Construct File Paths ---\n",
    "locpot_path = os.path.join(directory, \"LOCPOT\")\n",
    "phisolv_path = os.path.join(directory, \"PHISOLV\")\n",
    "vsolv_path = os.path.join(directory, \"VSOLV\")\n",
    "rhob_path = os.path.join(directory, \"RHOB\")\n",
    "rhoion_path = os.path.join(directory, \"RHOION\")\n",
    "outcar_path = os.path.join(directory, \"OUTCAR\")\n",
    "\n",
    "# --- 3. Load Data ---\n",
    "try:\n",
    "    locpot = Locpot.from_file(locpot_path)\n",
    "    phisolv = Locpot.from_file(phisolv_path)\n",
    "    vsolv = Locpot.from_file(vsolv_path)\n",
    "    rhob = Locpot.from_file(rhob_path)\n",
    "    rhoion = Locpot.from_file(rhoion_path)\n",
    "    outcar = Outcar(outcar_path)\n",
    "\n",
    "except FileNotFoundError as e:\n",
    "    print(f\"Error: Required file not found: {e}\")\n",
    "    exit()\n",
    "\n",
    "# --- 4. Extract Data ---\n",
    "total_potential = locpot.data[\"total\"]\n",
    "solvent_potential = phisolv.data[\"total\"]\n",
    "vsolv_potential = vsolv.data[\"total\"]\n",
    "bound_charge = rhob.data[\"total\"]\n",
    "ionic_charge = rhoion.data[\"total\"]\n",
    "\n",
    "# XY-averaged profiles\n",
    "total_potential_avg = np.mean(total_potential, axis=(0, 1))\n",
    "solvent_potential_avg = np.mean(solvent_potential, axis=(0, 1))\n",
    "vsolv_potential_avg = np.mean(vsolv_potential, axis=(0, 1))\n",
    "bound_charge_avg = np.mean(bound_charge, axis=(0, 1))\n",
    "ionic_charge_avg = np.mean(ionic_charge, axis=(0, 1))\n",
    "\n",
    "# Z-coordinates\n",
    "z_coords = np.linspace(0, locpot.structure.lattice.c, len(total_potential_avg))\n",
    "\n",
    "# Solvation Energy\n",
    "final_energy = outcar.final_energy\n",
    "\n",
    "# --- 5. Plotting ---\n",
    "\n",
    "# --- 5.1. Electrostatic Potentials ---\n",
    "plt.figure(figsize=(10, 6))\n",
    "plt.plot(z_coords, total_potential_avg, label=\"Total Potential (LOCPOT)\")\n",
    "plt.plot(z_coords, solvent_potential_avg, label=\"Solvent Potential (PHI_SOLV)\")\n",
    "plt.plot(z_coords, vsolv_potential_avg, label=\"Cavity Correction (VSOLV)\")\n",
    "plt.xlabel(\"Z (Angstrom)\")\n",
    "plt.ylabel(\"XY-averaged Potential (V)\")\n",
    "plt.title(\"Electrostatic Potentials along Z\")\n",
    "plt.legend()\n",
    "plt.grid(True)\n",
    "plt.show()\n",
    "\n",
    "# --- 5.2. Charge Densities ---\n",
    "plt.figure(figsize=(10, 6))\n",
    "plt.plot(z_coords, bound_charge_avg, label=\"Bound Charge (RHOB)\")\n",
    "plt.plot(z_coords, ionic_charge_avg, label=\"Ionic Charge (RHOION)\")\n",
    "plt.xlabel(\"Z (Angstrom)\")\n",
    "plt.ylabel(\"XY-averaged Charge Density (e/Angstrom^3)\")\n",
    "plt.title(\"Charge Densities along Z\")\n",
    "plt.legend()\n",
    "plt.grid(True)\n",
    "plt.show()\n",
    "\n",
    "# --- 5.3. Solvation Energy ---\n",
    "print(f\"Final Energy (with solvation): {final_energy} eV\")\n",
    "# To get the solvation energy you would need to run the calculation without\n",
    "# solvation, and then subtract the energies."
   ]
  },
  {
   "cell_type": "code",
   "execution_count": 3,
   "metadata": {},
   "outputs": [
    {
     "name": "stdout",
     "output_type": "stream",
     "text": [
      "EC Radius Estimates:\n",
      "Maximum radius from center of mass: 2.48 Å\n",
      "Radius from maximum diameter: 2.14 Å\n",
      "Radius of gyration: 1.83 Å\n",
      "Radius from volume: 1.17 Å\n",
      "Average of all methods: 1.91 Å\n"
     ]
    }
   ],
   "source": [
    "from ase.io import read\n",
    "from ase.visualize import view\n",
    "import numpy as np\n",
    "from scipy.spatial import ConvexHull\n",
    "import urllib.request\n",
    "import os\n",
    "\n",
    "# Download EC structure from PubChem (CID: 7303)\n",
    "if not os.path.exists('ec.sdf'):\n",
    "    urllib.request.urlretrieve('https://pubchem.ncbi.nlm.nih.gov/rest/pug/compound/CID/7303/record/SDF/?record_type=3d', 'ec.sdf')\n",
    "\n",
    "# Read the structure\n",
    "ec = read('ec.sdf')\n",
    "\n",
    "# Calculate radii\n",
    "positions = ec.get_positions()\n",
    "center_of_mass = ec.get_center_of_mass()\n",
    "distances = np.linalg.norm(positions - center_of_mass, axis=1)\n",
    "max_radius = np.max(distances)\n",
    "radius_of_gyration = np.sqrt(np.mean(distances**2))\n",
    "\n",
    "# Maximum pairwise distance / 2\n",
    "max_distance = 0\n",
    "for i in range(len(ec)):\n",
    "    for j in range(i+1, len(ec)):\n",
    "        distance = np.linalg.norm(positions[i] - positions[j])\n",
    "        if distance > max_distance:\n",
    "            max_distance = distance\n",
    "radius_from_diameter = max_distance / 2\n",
    "\n",
    "# Volume-based approach\n",
    "hull = ConvexHull(positions)\n",
    "volume = hull.volume\n",
    "radius_from_volume = (3 * volume / (4 * np.pi))**(1/3)\n",
    "\n",
    "print(f\"EC Radius Estimates:\")\n",
    "print(f\"Maximum radius from center of mass: {max_radius:.2f} Å\")\n",
    "print(f\"Radius from maximum diameter: {radius_from_diameter:.2f} Å\")\n",
    "print(f\"Radius of gyration: {radius_of_gyration:.2f} Å\")\n",
    "print(f\"Radius from volume: {radius_from_volume:.2f} Å\")\n",
    "print(f\"Average of all methods: {np.mean([max_radius, radius_from_diameter, radius_of_gyration, radius_from_volume]):.2f} Å\")"
   ]
  },
  {
   "cell_type": "code",
   "execution_count": 1,
   "metadata": {},
   "outputs": [
    {
     "name": "stdout",
     "output_type": "stream",
     "text": [
      "nmax: 1.9531 Å\n"
     ]
    }
   ],
   "source": [
    "n = 0.8\n",
    "nmax = 1 / n**3\n",
    "\n",
    "print(f\"nmax: {nmax:.4f} Å\")"
   ]
  },
  {
   "cell_type": "code",
   "execution_count": 2,
   "metadata": {},
   "outputs": [
    {
     "name": "stdout",
     "output_type": "stream",
     "text": [
      "Cube root of 164.0: 5.4737 bohr\n"
     ]
    }
   ],
   "source": [
    "# cube root :\n",
    "import numpy as np\n",
    "v = 164.0 \n",
    "cube_root = v**(1/3)\n",
    "print(f\"Cube root of {v}: {cube_root:.4f} bohr\")\n"
   ]
  }
 ],
 "metadata": {
  "kernelspec": {
   "display_name": "Workflow",
   "language": "python",
   "name": "python3"
  },
  "language_info": {
   "codemirror_mode": {
    "name": "ipython",
    "version": 3
   },
   "file_extension": ".py",
   "mimetype": "text/x-python",
   "name": "python",
   "nbconvert_exporter": "python",
   "pygments_lexer": "ipython3",
   "version": "3.12.9"
  }
 },
 "nbformat": 4,
 "nbformat_minor": 2
}
